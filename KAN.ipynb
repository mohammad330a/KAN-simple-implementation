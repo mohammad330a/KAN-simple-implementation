{
  "nbformat": 4,
  "nbformat_minor": 0,
  "metadata": {
    "colab": {
      "provenance": []
    },
    "kernelspec": {
      "name": "python3",
      "display_name": "Python 3"
    },
    "language_info": {
      "name": "python"
    }
  },
  "cells": [
    {
      "cell_type": "code",
      "execution_count": 1,
      "metadata": {
        "id": "RSEJzOhyOkh-"
      },
      "outputs": [],
      "source": [
        "import torch\n",
        "import torch.nn as nn\n",
        "import torch.optim as optim\n",
        "import torch.nn.functional as F\n",
        "\n",
        "import torchvision\n",
        "from torchvision import datasets, transforms\n",
        "from torch.utils.data import DataLoader\n",
        "\n",
        "from tqdm import tqdm\n",
        "import matplotlib.pyplot as plt\n",
        "%config InlineBackend.figure_formats = ['svg']\n",
        "\n",
        "import math"
      ]
    },
    {
      "cell_type": "code",
      "source": [
        "class KANLinear(torch.nn.Module):\n",
        "    def __init__(\n",
        "        self,\n",
        "        in_features,\n",
        "        out_features,\n",
        "        grid_size=5,\n",
        "        spline_order=3,\n",
        "        scale_noise=0.1,\n",
        "        base_activation=torch.nn.SiLU,\n",
        "        grid_range=[-1, 1],\n",
        "    ):\n",
        "        super(KANLinear, self).__init__()\n",
        "        self.in_features = in_features\n",
        "        self.out_features = out_features\n",
        "        self.grid_size = grid_size\n",
        "        self.spline_order = spline_order\n",
        "\n",
        "        h = (grid_range[1] - grid_range[0]) / grid_size\n",
        "        grid = (\n",
        "            (\n",
        "                torch.arange(-spline_order, grid_size + spline_order + 1) * h\n",
        "                + grid_range[0]\n",
        "            )\n",
        "            .expand(in_features, -1)\n",
        "            .contiguous()\n",
        "        )\n",
        "        self.register_buffer(\"grid\", grid)\n",
        "\n",
        "        self.base_weight = torch.nn.Parameter(torch.Tensor(out_features, in_features))\n",
        "        self.spline_weight = torch.nn.Parameter(\n",
        "            torch.Tensor(out_features, in_features, grid_size + spline_order)\n",
        "        )\n",
        "\n",
        "        self.scale_noise = scale_noise\n",
        "        self.base_activation = base_activation()\n",
        "\n",
        "        self.reset_parameters()\n",
        "\n",
        "    def reset_parameters(self):\n",
        "        torch.nn.init.kaiming_uniform_(self.base_weight, a=math.sqrt(5))\n",
        "        with torch.no_grad():\n",
        "            noise = (\n",
        "                (\n",
        "                    torch.rand(self.grid_size + 1, self.in_features, self.out_features)\n",
        "                    - 1 / 2\n",
        "                )\n",
        "                * self.scale_noise\n",
        "                / self.grid_size\n",
        "            )\n",
        "            self.spline_weight.data.copy_(\n",
        "                self.curve2coeff(\n",
        "                    self.grid.T[self.spline_order : -self.spline_order],\n",
        "                    noise,\n",
        "                )\n",
        "            )\n",
        "\n",
        "    def b_splines(self, x: torch.Tensor):\n",
        "        \"\"\"\n",
        "        Compute the B-spline bases for the given input tensor.\n",
        "\n",
        "        Args:\n",
        "            x (torch.Tensor): Input tensor of shape (batch_size, in_features).\n",
        "\n",
        "        Returns:\n",
        "            torch.Tensor: B-spline bases tensor of shape (batch_size, in_features, grid_size + spline_order).\n",
        "        \"\"\"\n",
        "        assert x.dim() == 2 and x.size(1) == self.in_features\n",
        "\n",
        "        grid: torch.Tensor = (\n",
        "            self.grid\n",
        "        )  # (in_features, grid_size + 2 * spline_order + 1)\n",
        "        x = x.unsqueeze(-1)\n",
        "        bases = ((x >= grid[:, :-1]) & (x < grid[:, 1:])).to(x.dtype)\n",
        "        for k in range(1, self.spline_order + 1):\n",
        "            bases = (\n",
        "                (x - grid[:, : -(k + 1)])\n",
        "                / (grid[:, k:-1] - grid[:, : -(k + 1)])\n",
        "                * bases[:, :, :-1]\n",
        "            ) + (\n",
        "                (grid[:, k + 1 :] - x)\n",
        "                / (grid[:, k + 1 :] - grid[:, 1:(-k)])\n",
        "                * bases[:, :, 1:]\n",
        "            )\n",
        "\n",
        "        assert bases.size() == (\n",
        "            x.size(0),\n",
        "            self.in_features,\n",
        "            self.grid_size + self.spline_order,\n",
        "        )\n",
        "        return bases.contiguous()\n",
        "\n",
        "    def curve2coeff(self, x: torch.Tensor, y: torch.Tensor):\n",
        "        \"\"\"\n",
        "        Compute the coefficients of the curve that interpolates the given points.\n",
        "\n",
        "        Args:\n",
        "            x (torch.Tensor): Input tensor of shape (batch_size, in_features).\n",
        "            y (torch.Tensor): Output tensor of shape (batch_size, in_features, out_features).\n",
        "\n",
        "        Returns:\n",
        "            torch.Tensor: Coefficients tensor of shape (out_features, in_features, grid_size + spline_order).\n",
        "        \"\"\"\n",
        "        assert x.dim() == 2 and x.size(1) == self.in_features\n",
        "        assert y.size() == (x.size(0), self.in_features, self.out_features)\n",
        "\n",
        "        A = self.b_splines(x).transpose(\n",
        "            0, 1\n",
        "        )  # (in_features, batch_size, grid_size + spline_order)\n",
        "        B = y.transpose(0, 1)  # (in_features, batch_size, out_features)\n",
        "        solution = torch.linalg.lstsq(\n",
        "            A, B\n",
        "        ).solution  # (in_features, grid_size + spline_order, out_features)\n",
        "        result = solution.permute(\n",
        "            2, 0, 1\n",
        "        )  # (out_features, in_features, grid_size + spline_order)\n",
        "\n",
        "        assert result.size() == (\n",
        "            self.out_features,\n",
        "            self.in_features,\n",
        "            self.grid_size + self.spline_order,\n",
        "        )\n",
        "        return result.contiguous()\n",
        "\n",
        "    def forward(self, x: torch.Tensor):\n",
        "        assert x.size(-1) == self.in_features\n",
        "        original_shape = x.shape\n",
        "        x = x.view(-1, self.in_features)\n",
        "\n",
        "        base_output = F.linear(self.base_activation(x), self.base_weight)\n",
        "        spline_output = F.linear(\n",
        "            self.b_splines(x).view(x.size(0), -1),\n",
        "            self.spline_weight.view(self.out_features, -1),\n",
        "        )\n",
        "        output = base_output + spline_output\n",
        "\n",
        "        output = output.view(*original_shape[:-1], self.out_features)\n",
        "        return output"
      ],
      "metadata": {
        "id": "wFrUTA-DOmlS"
      },
      "execution_count": 4,
      "outputs": []
    },
    {
      "cell_type": "code",
      "source": [
        "class KAN(torch.nn.Module):\n",
        "    def __init__(\n",
        "        self,\n",
        "        layers_hidden,\n",
        "        grid_size=5,\n",
        "        spline_order=3,\n",
        "        scale_noise=0.1,\n",
        "        base_activation=torch.nn.SiLU,\n",
        "        grid_range=[-1, 1],\n",
        "    ):\n",
        "        super(KAN, self).__init__()\n",
        "        self.grid_size = grid_size\n",
        "        self.spline_order = spline_order\n",
        "\n",
        "        self.layers = torch.nn.ModuleList()\n",
        "        for in_features, out_features in zip(layers_hidden, layers_hidden[1:]):\n",
        "            self.layers.append(\n",
        "                KANLinear(\n",
        "                    in_features,\n",
        "                    out_features,\n",
        "                    grid_size=grid_size,\n",
        "                    spline_order=spline_order,\n",
        "                    scale_noise=scale_noise,\n",
        "                    base_activation=base_activation,\n",
        "                    grid_range=grid_range,\n",
        "                )\n",
        "            )\n",
        "\n",
        "    def forward(self, x: torch.Tensor, update_grid=False):\n",
        "        for layer in self.layers:\n",
        "            x = layer(x)\n",
        "        return x"
      ],
      "metadata": {
        "id": "LsGH908cOr7r"
      },
      "execution_count": 5,
      "outputs": []
    },
    {
      "cell_type": "code",
      "source": [
        "# Load and preprocess the MNIST dataset\n",
        "transform = transforms.Compose([\n",
        "    transforms.ToTensor(),\n",
        "    transforms.Normalize((0.1307,), (0.3081,))\n",
        "])\n",
        "\n",
        "train_dataset = datasets.MNIST('./data', train=True, download=True, transform=transform)\n",
        "test_dataset = datasets.MNIST('./data', train=False, download=True, transform=transform)\n",
        "\n",
        "train_loader = DataLoader(train_dataset, batch_size=64, shuffle=True)\n",
        "test_loader = DataLoader(test_dataset, batch_size=1000, shuffle=False)"
      ],
      "metadata": {
        "colab": {
          "base_uri": "https://localhost:8080/"
        },
        "id": "rA2y0ySTOvdd",
        "outputId": "cb298e7d-b306-4302-8c41-711fb4daf388"
      },
      "execution_count": 6,
      "outputs": [
        {
          "output_type": "stream",
          "name": "stdout",
          "text": [
            "Downloading http://yann.lecun.com/exdb/mnist/train-images-idx3-ubyte.gz\n",
            "Failed to download (trying next):\n",
            "HTTP Error 403: Forbidden\n",
            "\n",
            "Downloading https://ossci-datasets.s3.amazonaws.com/mnist/train-images-idx3-ubyte.gz\n",
            "Downloading https://ossci-datasets.s3.amazonaws.com/mnist/train-images-idx3-ubyte.gz to ./data/MNIST/raw/train-images-idx3-ubyte.gz\n"
          ]
        },
        {
          "output_type": "stream",
          "name": "stderr",
          "text": [
            "100%|██████████| 9912422/9912422 [00:00<00:00, 58898035.88it/s]\n"
          ]
        },
        {
          "output_type": "stream",
          "name": "stdout",
          "text": [
            "Extracting ./data/MNIST/raw/train-images-idx3-ubyte.gz to ./data/MNIST/raw\n",
            "\n",
            "Downloading http://yann.lecun.com/exdb/mnist/train-labels-idx1-ubyte.gz\n",
            "Failed to download (trying next):\n",
            "HTTP Error 403: Forbidden\n",
            "\n",
            "Downloading https://ossci-datasets.s3.amazonaws.com/mnist/train-labels-idx1-ubyte.gz\n",
            "Downloading https://ossci-datasets.s3.amazonaws.com/mnist/train-labels-idx1-ubyte.gz to ./data/MNIST/raw/train-labels-idx1-ubyte.gz\n"
          ]
        },
        {
          "output_type": "stream",
          "name": "stderr",
          "text": [
            "100%|██████████| 28881/28881 [00:00<00:00, 1875659.13it/s]"
          ]
        },
        {
          "output_type": "stream",
          "name": "stdout",
          "text": [
            "Extracting ./data/MNIST/raw/train-labels-idx1-ubyte.gz to ./data/MNIST/raw\n",
            "\n",
            "Downloading http://yann.lecun.com/exdb/mnist/t10k-images-idx3-ubyte.gz\n",
            "Failed to download (trying next):\n",
            "HTTP Error 403: Forbidden\n",
            "\n",
            "Downloading https://ossci-datasets.s3.amazonaws.com/mnist/t10k-images-idx3-ubyte.gz\n"
          ]
        },
        {
          "output_type": "stream",
          "name": "stderr",
          "text": [
            "\n"
          ]
        },
        {
          "output_type": "stream",
          "name": "stdout",
          "text": [
            "Downloading https://ossci-datasets.s3.amazonaws.com/mnist/t10k-images-idx3-ubyte.gz to ./data/MNIST/raw/t10k-images-idx3-ubyte.gz\n"
          ]
        },
        {
          "output_type": "stream",
          "name": "stderr",
          "text": [
            "100%|██████████| 1648877/1648877 [00:00<00:00, 14183243.57it/s]\n"
          ]
        },
        {
          "output_type": "stream",
          "name": "stdout",
          "text": [
            "Extracting ./data/MNIST/raw/t10k-images-idx3-ubyte.gz to ./data/MNIST/raw\n",
            "\n",
            "Downloading http://yann.lecun.com/exdb/mnist/t10k-labels-idx1-ubyte.gz\n",
            "Failed to download (trying next):\n",
            "HTTP Error 403: Forbidden\n",
            "\n",
            "Downloading https://ossci-datasets.s3.amazonaws.com/mnist/t10k-labels-idx1-ubyte.gz\n",
            "Downloading https://ossci-datasets.s3.amazonaws.com/mnist/t10k-labels-idx1-ubyte.gz to ./data/MNIST/raw/t10k-labels-idx1-ubyte.gz\n"
          ]
        },
        {
          "output_type": "stream",
          "name": "stderr",
          "text": [
            "100%|██████████| 4542/4542 [00:00<00:00, 6407846.88it/s]"
          ]
        },
        {
          "output_type": "stream",
          "name": "stdout",
          "text": [
            "Extracting ./data/MNIST/raw/t10k-labels-idx1-ubyte.gz to ./data/MNIST/raw\n",
            "\n"
          ]
        },
        {
          "output_type": "stream",
          "name": "stderr",
          "text": [
            "\n"
          ]
        }
      ]
    },
    {
      "cell_type": "code",
      "source": [
        "# Model params\n",
        "input_dim = 28 * 28  # MNIST images are 28x28 pixels\n",
        "hidden_dim = 128\n",
        "output_dim = 10  # 10 classes for the digits 0-9"
      ],
      "metadata": {
        "id": "GfzTZCltOxGL"
      },
      "execution_count": 7,
      "outputs": []
    },
    {
      "cell_type": "code",
      "source": [
        "model = KAN([input_dim, hidden_dim, output_dim])\n",
        "# device = torch.device(\"cuda\" if torch.cuda.is_available() else \"cpu\")\n",
        "# model.to(device)\n",
        "\n",
        "criterion = nn.CrossEntropyLoss()\n",
        "optimizer = optim.AdamW(model.parameters(), lr=1e-3, weight_decay=1e-4)\n",
        "scheduler = optim.lr_scheduler.ExponentialLR(optimizer, gamma=0.8)"
      ],
      "metadata": {
        "id": "cE0enykwOyjq"
      },
      "execution_count": 8,
      "outputs": []
    },
    {
      "cell_type": "code",
      "source": [
        "# Training loop\n",
        "epochs = 2\n",
        "for epoch in range(epochs):\n",
        "    model.train()\n",
        "    for batch_idx, (data, target) in enumerate(train_loader):\n",
        "        data = data.view(-1, 28 * 28)  # Flatten the images\n",
        "        optimizer.zero_grad()\n",
        "        output = model(data)\n",
        "        loss = criterion(output, target)\n",
        "        loss.backward()\n",
        "        optimizer.step()\n",
        "        if batch_idx % 200 == 0:\n",
        "            print(f'Train Epoch: {epoch+1} [{batch_idx * len(data)}/{len(train_loader.dataset)} ({100. * batch_idx / len(train_loader):.0f}%)]\\tLoss: {loss.item():.6f}')\n",
        "    scheduler.step()"
      ],
      "metadata": {
        "colab": {
          "base_uri": "https://localhost:8080/"
        },
        "id": "3DK-imyJO0MU",
        "outputId": "8f2d5a1c-211f-4ca7-8573-dd2a00ef3bbf"
      },
      "execution_count": 9,
      "outputs": [
        {
          "output_type": "stream",
          "name": "stdout",
          "text": [
            "Train Epoch: 1 [0/60000 (0%)]\tLoss: 2.272752\n",
            "Train Epoch: 1 [12800/60000 (21%)]\tLoss: 0.470768\n",
            "Train Epoch: 1 [25600/60000 (43%)]\tLoss: 0.439565\n",
            "Train Epoch: 1 [38400/60000 (64%)]\tLoss: 0.265131\n",
            "Train Epoch: 1 [51200/60000 (85%)]\tLoss: 0.127759\n",
            "Train Epoch: 2 [0/60000 (0%)]\tLoss: 0.173039\n",
            "Train Epoch: 2 [12800/60000 (21%)]\tLoss: 0.198989\n",
            "Train Epoch: 2 [25600/60000 (43%)]\tLoss: 0.188573\n",
            "Train Epoch: 2 [38400/60000 (64%)]\tLoss: 0.034794\n",
            "Train Epoch: 2 [51200/60000 (85%)]\tLoss: 0.097822\n"
          ]
        }
      ]
    },
    {
      "cell_type": "code",
      "source": [
        "# Testing the KAN\n",
        "model.eval()\n",
        "test_loss = 0\n",
        "correct = 0\n",
        "correct_predictions = []\n",
        "incorrect_predictions = []\n",
        "with torch.no_grad():\n",
        "    for data, target in test_loader:\n",
        "        data = data.view(-1, 28 * 28)  # Flatten the images\n",
        "        output = model(data)\n",
        "        test_loss += criterion(output, target).item()  # Sum up batch loss\n",
        "        pred = output.argmax(dim=1, keepdim=True)  # Get the index of the max log-probability\n",
        "        correct += pred.eq(target.view_as(pred)).sum().item()\n",
        "\n",
        "        # Collect predictions for visualization\n",
        "        softmax_output = F.softmax(output, dim=1)\n",
        "        for i in range(len(data)):\n",
        "            true_label = target[i].item()\n",
        "            predicted_label = pred[i].item()\n",
        "            prediction_confidence = softmax_output[i][predicted_label].item()\n",
        "            true_label_confidence = softmax_output[i][true_label].item()\n",
        "            if predicted_label == true_label:\n",
        "                correct_predictions.append((data[i].view(28, 28), predicted_label, prediction_confidence, true_label, true_label_confidence))\n",
        "            else:\n",
        "                incorrect_predictions.append((data[i].view(28, 28), predicted_label, prediction_confidence, true_label, true_label_confidence))\n",
        "\n",
        "test_loss /= len(test_loader.dataset)\n",
        "accuracy = correct / len(test_loader.dataset)\n",
        "\n",
        "print(f'\\nTest set: Average loss: {test_loss:.4f}, Accuracy: {correct}/{len(test_loader.dataset)} ({100. * accuracy:.2f}%)\\n')"
      ],
      "metadata": {
        "colab": {
          "base_uri": "https://localhost:8080/"
        },
        "id": "xAArH3GOO1fh",
        "outputId": "bed7f28b-4bf9-43c7-aebf-c3074090e145"
      },
      "execution_count": 10,
      "outputs": [
        {
          "output_type": "stream",
          "name": "stdout",
          "text": [
            "\n",
            "Test set: Average loss: 0.0001, Accuracy: 9618/10000 (96.18%)\n",
            "\n"
          ]
        }
      ]
    },
    {
      "cell_type": "code",
      "source": [
        "# Visualize 10 predictions\n",
        "num_correct = 8\n",
        "num_incorrect = 2\n",
        "plt.figure(figsize=(12, 6))\n",
        "\n",
        "# Plot correct predictions\n",
        "for i in range(num_correct):\n",
        "    plt.subplot(2, 5, i + 1)\n",
        "    image, pred, pred_conf, true_label, true_label_conf = correct_predictions[i]\n",
        "    plt.imshow(image, cmap='gray')\n",
        "    plt.title(f'Pred: {pred} ({pred_conf:.2f})\\nTrue: {true_label} ({true_label_conf:.2f})')\n",
        "    plt.axis('off')\n",
        "\n",
        "# Plot incorrect predictions\n",
        "for i in range(num_incorrect):\n",
        "    plt.subplot(2, 5, num_correct + i + 1)\n",
        "    image, pred, pred_conf, true_label, true_label_conf = incorrect_predictions[i]\n",
        "    plt.imshow(image, cmap='gray')\n",
        "    plt.title(f'Pred: {pred} ({pred_conf:.2f})\\nTrue: {true_label} ({true_label_conf:.2f})')\n",
        "    plt.axis('off')\n",
        "\n",
        "plt.tight_layout()\n",
        "# plt.savefig('results.png', dpi=300)\n",
        "plt.show()"
      ],
      "metadata": {
        "colab": {
          "base_uri": "https://localhost:8080/",
          "height": 560
        },
        "id": "7HaPGyLwO4Yu",
        "outputId": "814f3578-072b-465c-e36c-490d81070b03"
      },
      "execution_count": 11,
      "outputs": [
        {
          "output_type": "display_data",
          "data": {
            "text/plain": [
              "<Figure size 1200x600 with 10 Axes>"
            ],
            "image/svg+xml": "<?xml version=\"1.0\" encoding=\"utf-8\" standalone=\"no\"?>\n<!DOCTYPE svg PUBLIC \"-//W3C//DTD SVG 1.1//EN\"\n  \"http://www.w3.org/Graphics/SVG/1.1/DTD/svg11.dtd\">\n<svg xmlns:xlink=\"http://www.w3.org/1999/xlink\" width=\"856.8pt\" height=\"404.457569pt\" viewBox=\"0 0 856.8 404.457569\" xmlns=\"http://www.w3.org/2000/svg\" version=\"1.1\">\n <metadata>\n  <rdf:RDF xmlns:dc=\"http://purl.org/dc/elements/1.1/\" xmlns:cc=\"http://creativecommons.org/ns#\" xmlns:rdf=\"http://www.w3.org/1999/02/22-rdf-syntax-ns#\">\n   <cc:Work>\n    <dc:type rdf:resource=\"http://purl.org/dc/dcmitype/StillImage\"/>\n    <dc:date>2024-07-13T22:36:19.188818</dc:date>\n    <dc:format>image/svg+xml</dc:format>\n    <dc:creator>\n     <cc:Agent>\n      <dc:title>Matplotlib v3.7.1, https://matplotlib.org/</dc:title>\n     </cc:Agent>\n    </dc:creator>\n   </cc:Work>\n  </rdf:RDF>\n </metadata>\n <defs>\n  <style type=\"text/css\">*{stroke-linejoin: round; stroke-linecap: butt}</style>\n </defs>\n <g id=\"figure_1\">\n  <g id=\"patch_1\">\n   <path d=\"M 0 404.457569 \nL 856.8 404.457569 \nL 856.8 0 \nL 0 0 \nz\n\" style=\"fill: #ffffff\"/>\n  </g>\n  <g id=\"axes_1\">\n   <g clip-path=\"url(#p28b45e1658)\">\n    <image xlink:href=\"data:image/png;base64,\niVBORw0KGgoAAAANSUhEUgAAAN4AAADeCAYAAABSZ763AAAFTElEQVR4nO3dsUuVfRzG4dNrDUKLBi2RFEIQQqnRFJTlEkk05FRzU39BQ2JDi2tD0B5EEAQtTQ0lkZKDmBRiLUUEgQQVBQW2vON7vgc9r94eu6715pFn+fAbfjzHHY1GY7UBbKp/0i8AfyPhQYDwIEB4ECA8CBAeBAgPAnamX6CTXbt2rdxv3rxZ7vPz8+U+Ojpa7isrK+XO1uXEgwDhQYDwIEB4ECA8CBAeBAgPAtzjBR09erTcZ2Zmyv38+fPl/ubNmzW/E5vDiQcBwoMA4UGA8CBAeBAgPAgQHgS4x2vDs2fPyv3bt2/lvnv37nLv7+9v63m2LiceBAgPAoQHAcKDAOFBgPAgQHgQ4B6vDdPT0+V+69atcm/1u5xsX048CBAeBAgPAoQHAcKDAOFBgPAgwD3eBrpz5065X758udz7+vrK/dSpU+U+NzdX7qurq+XOxnHiQYDwIEB4ECA8CBAeBAgPAoQHATsajYbLnJBDhw6Ve7v/3+7ChQvl/ujRo7b+PuvnxIMA4UGA8CBAeBAgPAgQHgQIDwLc4wV1dXWV+4sXL8r92LFj5f727dtyP3v2bFvPs35OPAgQHgQIDwKEBwHCgwDhQYDrhC1sz5495T47O1vuBw8eLPd79+6V+6VLl8qd9XPiQYDwIEB4ECA8CBAeBAgPAoQHAe7xOtjY2Fi5P3z4sNy/f/9e7q0+G2r12RLNOfEgQHgQIDwIEB4ECA8ChAcBwoMA93jb2MTERLlPTk6W++PHj8v93Llza30l/uXEgwDhQYDwIEB4ECA8CBAeBAgPAtzjbWPd3d3lPj09Xe4DAwPlfubMmXJ//vx5uf/NnHgQIDwIEB4ECA8ChAcBwoMA4UHAzvQLsHF+/PhR7q2+txsaGir3GzdulHur7/V+/fpV7tuZEw8ChAcBwoMA4UGA8CBAeBAgPAjwPd5f7MSJE+X+5MmTct+1a1e5j4yMlPvTp0/LfTtz4kGA8CBAeBAgPAgQHgQIDwKEBwHu8Wiq1fd2169fL/cvX76U+8mTJ5tur169Kp/tdE48CBAeBAgPAoQHAcKDAOFBgPAgwD0eTe3du7fcFxYW2np+fHy86fbgwYPy2U7nxIMA4UGA8CBAeBAgPAgQHgQIDwLc47FuFy9eLPf79++Xe/XN3enTp8tnV1ZWyn2rc+JBgPAgQHgQIDwIEB4ECA8ChAcB7vE2UE9PT7kPDg6W+9zcXLkfP358ra+0Jj9//iz3paWlcn/9+nW59/b2Nt2uXr1aPnv79u1y3+qceBAgPAgQHgQIDwKEBwHCgwDhQcDO9Au0a3R0tOl25MiR8tlW90yHDx8u9+Hh4XIfGRkp93379pX7+/fvy33//v3l3q7fv3+X++fPn8u9uqdrpb+/f93PdgInHgQIDwKEBwHCgwDhQYDwIEB4ENDx3+O9e/eu6XbgwIHNe5H/8PXr13JfXFzcpDfZmj58+NB0m5qaKp99+fLl//06m8qJBwHCgwDhQYDwIEB4ECA8CBAeBHT8Pd74+HjT7cqVK+WzHz9+LPdWvyt59+7dcv/06VO5Ly8vlzvblxMPAoQHAcKDAOFBgPAgQHgQIDwI6Ph7POhETjwIEB4ECA8ChAcBwoMA4UGA8CBAeBAgPAgQHgQIDwKEBwHCgwDhQYDwIEB4ECA8CBAeBAgPAoQHAcKDAOFBgPAgQHgQIDwIEB4ECA8ChAcBwoMA4UGA8CBAeBAgPAgQHgQIDwKEBwHCgwDhQYDwIEB4ECA8CBAeBAgPAoQHAcKDAOFBgPAgQHgQIDwIEB4ECA8ChAcBwoMA4UHAH515w+RBCjbKAAAAAElFTkSuQmCC\" id=\"imageb0dc3d3fc9\" transform=\"scale(1 -1) translate(0 -159.84)\" x=\"7.2\" y=\"-35.7555\" width=\"159.84\" height=\"159.84\"/>\n   </g>\n   <g id=\"text_1\">\n    <!-- Pred: 7 (1.00) -->\n    <g transform=\"translate(46.080937 16.318125) scale(0.12 -0.12)\">\n     <defs>\n      <path id=\"DejaVuSans-50\" d=\"M 1259 4147 \nL 1259 2394 \nL 2053 2394 \nQ 2494 2394 2734 2622 \nQ 2975 2850 2975 3272 \nQ 2975 3691 2734 3919 \nQ 2494 4147 2053 4147 \nL 1259 4147 \nz\nM 628 4666 \nL 2053 4666 \nQ 2838 4666 3239 4311 \nQ 3641 3956 3641 3272 \nQ 3641 2581 3239 2228 \nQ 2838 1875 2053 1875 \nL 1259 1875 \nL 1259 0 \nL 628 0 \nL 628 4666 \nz\n\" transform=\"scale(0.015625)\"/>\n      <path id=\"DejaVuSans-72\" d=\"M 2631 2963 \nQ 2534 3019 2420 3045 \nQ 2306 3072 2169 3072 \nQ 1681 3072 1420 2755 \nQ 1159 2438 1159 1844 \nL 1159 0 \nL 581 0 \nL 581 3500 \nL 1159 3500 \nL 1159 2956 \nQ 1341 3275 1631 3429 \nQ 1922 3584 2338 3584 \nQ 2397 3584 2469 3576 \nQ 2541 3569 2628 3553 \nL 2631 2963 \nz\n\" transform=\"scale(0.015625)\"/>\n      <path id=\"DejaVuSans-65\" d=\"M 3597 1894 \nL 3597 1613 \nL 953 1613 \nQ 991 1019 1311 708 \nQ 1631 397 2203 397 \nQ 2534 397 2845 478 \nQ 3156 559 3463 722 \nL 3463 178 \nQ 3153 47 2828 -22 \nQ 2503 -91 2169 -91 \nQ 1331 -91 842 396 \nQ 353 884 353 1716 \nQ 353 2575 817 3079 \nQ 1281 3584 2069 3584 \nQ 2775 3584 3186 3129 \nQ 3597 2675 3597 1894 \nz\nM 3022 2063 \nQ 3016 2534 2758 2815 \nQ 2500 3097 2075 3097 \nQ 1594 3097 1305 2825 \nQ 1016 2553 972 2059 \nL 3022 2063 \nz\n\" transform=\"scale(0.015625)\"/>\n      <path id=\"DejaVuSans-64\" d=\"M 2906 2969 \nL 2906 4863 \nL 3481 4863 \nL 3481 0 \nL 2906 0 \nL 2906 525 \nQ 2725 213 2448 61 \nQ 2172 -91 1784 -91 \nQ 1150 -91 751 415 \nQ 353 922 353 1747 \nQ 353 2572 751 3078 \nQ 1150 3584 1784 3584 \nQ 2172 3584 2448 3432 \nQ 2725 3281 2906 2969 \nz\nM 947 1747 \nQ 947 1113 1208 752 \nQ 1469 391 1925 391 \nQ 2381 391 2643 752 \nQ 2906 1113 2906 1747 \nQ 2906 2381 2643 2742 \nQ 2381 3103 1925 3103 \nQ 1469 3103 1208 2742 \nQ 947 2381 947 1747 \nz\n\" transform=\"scale(0.015625)\"/>\n      <path id=\"DejaVuSans-3a\" d=\"M 750 794 \nL 1409 794 \nL 1409 0 \nL 750 0 \nL 750 794 \nz\nM 750 3309 \nL 1409 3309 \nL 1409 2516 \nL 750 2516 \nL 750 3309 \nz\n\" transform=\"scale(0.015625)\"/>\n      <path id=\"DejaVuSans-20\" transform=\"scale(0.015625)\"/>\n      <path id=\"DejaVuSans-37\" d=\"M 525 4666 \nL 3525 4666 \nL 3525 4397 \nL 1831 0 \nL 1172 0 \nL 2766 4134 \nL 525 4134 \nL 525 4666 \nz\n\" transform=\"scale(0.015625)\"/>\n      <path id=\"DejaVuSans-28\" d=\"M 1984 4856 \nQ 1566 4138 1362 3434 \nQ 1159 2731 1159 2009 \nQ 1159 1288 1364 580 \nQ 1569 -128 1984 -844 \nL 1484 -844 \nQ 1016 -109 783 600 \nQ 550 1309 550 2009 \nQ 550 2706 781 3412 \nQ 1013 4119 1484 4856 \nL 1984 4856 \nz\n\" transform=\"scale(0.015625)\"/>\n      <path id=\"DejaVuSans-31\" d=\"M 794 531 \nL 1825 531 \nL 1825 4091 \nL 703 3866 \nL 703 4441 \nL 1819 4666 \nL 2450 4666 \nL 2450 531 \nL 3481 531 \nL 3481 0 \nL 794 0 \nL 794 531 \nz\n\" transform=\"scale(0.015625)\"/>\n      <path id=\"DejaVuSans-2e\" d=\"M 684 794 \nL 1344 794 \nL 1344 0 \nL 684 0 \nL 684 794 \nz\n\" transform=\"scale(0.015625)\"/>\n      <path id=\"DejaVuSans-30\" d=\"M 2034 4250 \nQ 1547 4250 1301 3770 \nQ 1056 3291 1056 2328 \nQ 1056 1369 1301 889 \nQ 1547 409 2034 409 \nQ 2525 409 2770 889 \nQ 3016 1369 3016 2328 \nQ 3016 3291 2770 3770 \nQ 2525 4250 2034 4250 \nz\nM 2034 4750 \nQ 2819 4750 3233 4129 \nQ 3647 3509 3647 2328 \nQ 3647 1150 3233 529 \nQ 2819 -91 2034 -91 \nQ 1250 -91 836 529 \nQ 422 1150 422 2328 \nQ 422 3509 836 4129 \nQ 1250 4750 2034 4750 \nz\n\" transform=\"scale(0.015625)\"/>\n      <path id=\"DejaVuSans-29\" d=\"M 513 4856 \nL 1013 4856 \nQ 1481 4119 1714 3412 \nQ 1947 2706 1947 2009 \nQ 1947 1309 1714 600 \nQ 1481 -109 1013 -844 \nL 513 -844 \nQ 928 -128 1133 580 \nQ 1338 1288 1338 2009 \nQ 1338 2731 1133 3434 \nQ 928 4138 513 4856 \nz\n\" transform=\"scale(0.015625)\"/>\n     </defs>\n     <use xlink:href=\"#DejaVuSans-50\"/>\n     <use xlink:href=\"#DejaVuSans-72\" x=\"58.552734\"/>\n     <use xlink:href=\"#DejaVuSans-65\" x=\"97.416016\"/>\n     <use xlink:href=\"#DejaVuSans-64\" x=\"158.939453\"/>\n     <use xlink:href=\"#DejaVuSans-3a\" x=\"222.416016\"/>\n     <use xlink:href=\"#DejaVuSans-20\" x=\"256.107422\"/>\n     <use xlink:href=\"#DejaVuSans-37\" x=\"287.894531\"/>\n     <use xlink:href=\"#DejaVuSans-20\" x=\"351.517578\"/>\n     <use xlink:href=\"#DejaVuSans-28\" x=\"383.304688\"/>\n     <use xlink:href=\"#DejaVuSans-31\" x=\"422.318359\"/>\n     <use xlink:href=\"#DejaVuSans-2e\" x=\"485.941406\"/>\n     <use xlink:href=\"#DejaVuSans-30\" x=\"517.728516\"/>\n     <use xlink:href=\"#DejaVuSans-30\" x=\"581.351562\"/>\n     <use xlink:href=\"#DejaVuSans-29\" x=\"644.974609\"/>\n    </g>\n    <!-- True: 7 (1.00) -->\n    <g transform=\"translate(46.685625 29.7555) scale(0.12 -0.12)\">\n     <defs>\n      <path id=\"DejaVuSans-54\" d=\"M -19 4666 \nL 3928 4666 \nL 3928 4134 \nL 2272 4134 \nL 2272 0 \nL 1638 0 \nL 1638 4134 \nL -19 4134 \nL -19 4666 \nz\n\" transform=\"scale(0.015625)\"/>\n      <path id=\"DejaVuSans-75\" d=\"M 544 1381 \nL 544 3500 \nL 1119 3500 \nL 1119 1403 \nQ 1119 906 1312 657 \nQ 1506 409 1894 409 \nQ 2359 409 2629 706 \nQ 2900 1003 2900 1516 \nL 2900 3500 \nL 3475 3500 \nL 3475 0 \nL 2900 0 \nL 2900 538 \nQ 2691 219 2414 64 \nQ 2138 -91 1772 -91 \nQ 1169 -91 856 284 \nQ 544 659 544 1381 \nz\nM 1991 3584 \nL 1991 3584 \nz\n\" transform=\"scale(0.015625)\"/>\n     </defs>\n     <use xlink:href=\"#DejaVuSans-54\"/>\n     <use xlink:href=\"#DejaVuSans-72\" x=\"46.333984\"/>\n     <use xlink:href=\"#DejaVuSans-75\" x=\"87.447266\"/>\n     <use xlink:href=\"#DejaVuSans-65\" x=\"150.826172\"/>\n     <use xlink:href=\"#DejaVuSans-3a\" x=\"212.349609\"/>\n     <use xlink:href=\"#DejaVuSans-20\" x=\"246.041016\"/>\n     <use xlink:href=\"#DejaVuSans-37\" x=\"277.828125\"/>\n     <use xlink:href=\"#DejaVuSans-20\" x=\"341.451172\"/>\n     <use xlink:href=\"#DejaVuSans-28\" x=\"373.238281\"/>\n     <use xlink:href=\"#DejaVuSans-31\" x=\"412.251953\"/>\n     <use xlink:href=\"#DejaVuSans-2e\" x=\"475.875\"/>\n     <use xlink:href=\"#DejaVuSans-30\" x=\"507.662109\"/>\n     <use xlink:href=\"#DejaVuSans-30\" x=\"571.285156\"/>\n     <use xlink:href=\"#DejaVuSans-29\" x=\"634.908203\"/>\n    </g>\n   </g>\n  </g>\n  <g id=\"axes_2\">\n   <g clip-path=\"url(#pfbfc3cf495)\">\n    <image xlink:href=\"data:image/png;base64,\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\" id=\"image030b8e0e6c\" transform=\"scale(1 -1) translate(0 -159.84)\" x=\"177.84\" y=\"-35.7555\" width=\"159.84\" height=\"159.84\"/>\n   </g>\n   <g id=\"text_2\">\n    <!-- Pred: 2 (0.99) -->\n    <g transform=\"translate(216.720937 16.318125) scale(0.12 -0.12)\">\n     <defs>\n      <path id=\"DejaVuSans-32\" d=\"M 1228 531 \nL 3431 531 \nL 3431 0 \nL 469 0 \nL 469 531 \nQ 828 903 1448 1529 \nQ 2069 2156 2228 2338 \nQ 2531 2678 2651 2914 \nQ 2772 3150 2772 3378 \nQ 2772 3750 2511 3984 \nQ 2250 4219 1831 4219 \nQ 1534 4219 1204 4116 \nQ 875 4013 500 3803 \nL 500 4441 \nQ 881 4594 1212 4672 \nQ 1544 4750 1819 4750 \nQ 2544 4750 2975 4387 \nQ 3406 4025 3406 3419 \nQ 3406 3131 3298 2873 \nQ 3191 2616 2906 2266 \nQ 2828 2175 2409 1742 \nQ 1991 1309 1228 531 \nz\n\" transform=\"scale(0.015625)\"/>\n      <path id=\"DejaVuSans-39\" d=\"M 703 97 \nL 703 672 \nQ 941 559 1184 500 \nQ 1428 441 1663 441 \nQ 2288 441 2617 861 \nQ 2947 1281 2994 2138 \nQ 2813 1869 2534 1725 \nQ 2256 1581 1919 1581 \nQ 1219 1581 811 2004 \nQ 403 2428 403 3163 \nQ 403 3881 828 4315 \nQ 1253 4750 1959 4750 \nQ 2769 4750 3195 4129 \nQ 3622 3509 3622 2328 \nQ 3622 1225 3098 567 \nQ 2575 -91 1691 -91 \nQ 1453 -91 1209 -44 \nQ 966 3 703 97 \nz\nM 1959 2075 \nQ 2384 2075 2632 2365 \nQ 2881 2656 2881 3163 \nQ 2881 3666 2632 3958 \nQ 2384 4250 1959 4250 \nQ 1534 4250 1286 3958 \nQ 1038 3666 1038 3163 \nQ 1038 2656 1286 2365 \nQ 1534 2075 1959 2075 \nz\n\" transform=\"scale(0.015625)\"/>\n     </defs>\n     <use xlink:href=\"#DejaVuSans-50\"/>\n     <use xlink:href=\"#DejaVuSans-72\" x=\"58.552734\"/>\n     <use xlink:href=\"#DejaVuSans-65\" x=\"97.416016\"/>\n     <use xlink:href=\"#DejaVuSans-64\" x=\"158.939453\"/>\n     <use xlink:href=\"#DejaVuSans-3a\" x=\"222.416016\"/>\n     <use xlink:href=\"#DejaVuSans-20\" x=\"256.107422\"/>\n     <use xlink:href=\"#DejaVuSans-32\" x=\"287.894531\"/>\n     <use xlink:href=\"#DejaVuSans-20\" x=\"351.517578\"/>\n     <use xlink:href=\"#DejaVuSans-28\" x=\"383.304688\"/>\n     <use xlink:href=\"#DejaVuSans-30\" x=\"422.318359\"/>\n     <use xlink:href=\"#DejaVuSans-2e\" x=\"485.941406\"/>\n     <use xlink:href=\"#DejaVuSans-39\" x=\"517.728516\"/>\n     <use xlink:href=\"#DejaVuSans-39\" x=\"581.351562\"/>\n     <use xlink:href=\"#DejaVuSans-29\" x=\"644.974609\"/>\n    </g>\n    <!-- True: 2 (0.99) -->\n    <g transform=\"translate(217.325625 29.7555) scale(0.12 -0.12)\">\n     <use xlink:href=\"#DejaVuSans-54\"/>\n     <use xlink:href=\"#DejaVuSans-72\" x=\"46.333984\"/>\n     <use xlink:href=\"#DejaVuSans-75\" x=\"87.447266\"/>\n     <use xlink:href=\"#DejaVuSans-65\" x=\"150.826172\"/>\n     <use xlink:href=\"#DejaVuSans-3a\" x=\"212.349609\"/>\n     <use xlink:href=\"#DejaVuSans-20\" x=\"246.041016\"/>\n     <use xlink:href=\"#DejaVuSans-32\" x=\"277.828125\"/>\n     <use xlink:href=\"#DejaVuSans-20\" x=\"341.451172\"/>\n     <use xlink:href=\"#DejaVuSans-28\" x=\"373.238281\"/>\n     <use xlink:href=\"#DejaVuSans-30\" x=\"412.251953\"/>\n     <use xlink:href=\"#DejaVuSans-2e\" x=\"475.875\"/>\n     <use xlink:href=\"#DejaVuSans-39\" x=\"507.662109\"/>\n     <use xlink:href=\"#DejaVuSans-39\" x=\"571.285156\"/>\n     <use xlink:href=\"#DejaVuSans-29\" x=\"634.908203\"/>\n    </g>\n   </g>\n  </g>\n  <g id=\"axes_3\">\n   <g clip-path=\"url(#pf8c04bb12b)\">\n    <image xlink:href=\"data:image/png;base64,\niVBORw0KGgoAAAANSUhEUgAAAN4AAADeCAYAAABSZ763AAAEdklEQVR4nO3dP2qUaxyG4ajHykJSCIL24g4C2oi1SHBAcAOCjWCRLQTEldik8E8rQUvBiI2ldmJjpdiIZwXnlxMneifOdbUPE77mzlu8fDMn1tbWfq4Bf9TJ+gFgFQkPAsKDgPAgIDwICA8CwoOA8CAgPAgIDwLCg4DwICA8CAgPAsKDgPAgIDwICA8CwoOA8CAgPAgIDwLCg4DwICA8CAgPAsKDgPAgIDwICA8CwoPAP/UDHGenT58e993d3XH//PnzuN+5c2fcv337Nu4cXU48CAgPAsKDgPAgIDwICA8CwoOAe7wl7HePt76+Pu4bGxvjfv/+/XHf3t4ed44uJx4EhAcB4UFAeBAQHgSEBwHhQcA93hL2ex/u+fPn437p0qVxXywW4/7w4cNx//Hjx7jTceJBQHgQEB4EhAcB4UFAeBAQHgROrK2t/awf4m919erVcX/x4sW4nzp1atyvX7++1N+n48SDgPAgIDwICA8CwoOA8CDgtaDf6NWrV+P+6dOncb9w4cJhPg5HiBMPAsKDgPAgIDwICA8CwoOA8CDgHi/09OnTcb979+6437hxY9y9FnR0OfEgIDwICA8CwoOA8CAgPAgIDwLu8UIfP35c6vPr6+uH9CT8aU48CAgPAsKDgPAgIDwICA8CwoOAn+kKnT9/ftz39vbG/cuXL+N++fLlgz4Sf4gTDwLCg4DwICA8CAgPAsKDgPAg4H280H6/j/fy5ctxv3Xr1rhvbm6O+87Ozrjz+zjxICA8CAgPAsKDgPAgIDwICA8C7vGOsLdv3477YrFYaneP13HiQUB4EBAeBIQHAeFBQHgQEB4EfK/mEbaxsTHuz549G/cPHz6M+5UrV8b9+/fv486vc+JBQHgQEB4EhAcB4UFAeBAQHgTc4x1jjx49GvcHDx6M+82bN8f9yZMnB34m/h8nHgSEBwHhQUB4EBAeBIQHAeFBwPdqHmPv3r1b6vNbW1vj7h7v93HiQUB4EBAeBIQHAeFBQHgQEB4E3OMdY7u7u0t9/ty5c4f0JByUEw8CwoOA8CAgPAgIDwLCg4DwIOAe7xjb7/fvXr9+Pe773eOdOXNm3L9+/Tru/DcnHgSEBwHhQUB4EBAeBIQHAeFBwO/j/cUWi8W4P378eNyvXbs27su+D7jKnHgQEB4EhAcB4UFAeBAQHgSEBwHv4/3F3r9/P+77vU93+/btcXeP9+uceBAQHgSEBwHhQUB4EBAeBIQHAe/jrbDt7e1xv3fv3rifPXv2MB9npTjxICA8CAgPAsKDgPAgIDwIeC1ohe3t7Y37fj/Ttbm5Oe47OzsHfaSV4cSDgPAgIDwICA8CwoOA8CAgPAi4x1thb968GfeTJ+f/yxcvXjzMx1kpTjwICA8CwoOA8CAgPAgIDwLCg4Cv94OAEw8CwoOA8CAgPAgIDwLCg4DwICA8CAgPAsKDgPAgIDwICA8CwoOA8CAgPAgIDwLCg4DwICA8CAgPAsKDgPAgIDwICA8CwoOA8CAgPAgIDwLCg4DwIPAv+qaFcYoI604AAAAASUVORK5CYII=\" id=\"imagec8556b2e23\" transform=\"scale(1 -1) translate(0 -159.84)\" x=\"348.48\" y=\"-35.7555\" width=\"159.84\" height=\"159.84\"/>\n   </g>\n   <g id=\"text_3\">\n    <!-- Pred: 1 (0.99) -->\n    <g transform=\"translate(387.360937 16.318125) scale(0.12 -0.12)\">\n     <use xlink:href=\"#DejaVuSans-50\"/>\n     <use xlink:href=\"#DejaVuSans-72\" x=\"58.552734\"/>\n     <use xlink:href=\"#DejaVuSans-65\" x=\"97.416016\"/>\n     <use xlink:href=\"#DejaVuSans-64\" x=\"158.939453\"/>\n     <use xlink:href=\"#DejaVuSans-3a\" x=\"222.416016\"/>\n     <use xlink:href=\"#DejaVuSans-20\" x=\"256.107422\"/>\n     <use xlink:href=\"#DejaVuSans-31\" x=\"287.894531\"/>\n     <use xlink:href=\"#DejaVuSans-20\" x=\"351.517578\"/>\n     <use xlink:href=\"#DejaVuSans-28\" x=\"383.304688\"/>\n     <use xlink:href=\"#DejaVuSans-30\" x=\"422.318359\"/>\n     <use xlink:href=\"#DejaVuSans-2e\" x=\"485.941406\"/>\n     <use xlink:href=\"#DejaVuSans-39\" x=\"517.728516\"/>\n     <use xlink:href=\"#DejaVuSans-39\" x=\"581.351562\"/>\n     <use xlink:href=\"#DejaVuSans-29\" x=\"644.974609\"/>\n    </g>\n    <!-- True: 1 (0.99) -->\n    <g transform=\"translate(387.965625 29.7555) scale(0.12 -0.12)\">\n     <use xlink:href=\"#DejaVuSans-54\"/>\n     <use xlink:href=\"#DejaVuSans-72\" x=\"46.333984\"/>\n     <use xlink:href=\"#DejaVuSans-75\" x=\"87.447266\"/>\n     <use xlink:href=\"#DejaVuSans-65\" x=\"150.826172\"/>\n     <use xlink:href=\"#DejaVuSans-3a\" x=\"212.349609\"/>\n     <use xlink:href=\"#DejaVuSans-20\" x=\"246.041016\"/>\n     <use xlink:href=\"#DejaVuSans-31\" x=\"277.828125\"/>\n     <use xlink:href=\"#DejaVuSans-20\" x=\"341.451172\"/>\n     <use xlink:href=\"#DejaVuSans-28\" x=\"373.238281\"/>\n     <use xlink:href=\"#DejaVuSans-30\" x=\"412.251953\"/>\n     <use xlink:href=\"#DejaVuSans-2e\" x=\"475.875\"/>\n     <use xlink:href=\"#DejaVuSans-39\" x=\"507.662109\"/>\n     <use xlink:href=\"#DejaVuSans-39\" x=\"571.285156\"/>\n     <use xlink:href=\"#DejaVuSans-29\" x=\"634.908203\"/>\n    </g>\n   </g>\n  </g>\n  <g id=\"axes_4\">\n   <g clip-path=\"url(#pbb91238876)\">\n    <image xlink:href=\"data:image/png;base64,\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\" id=\"imaged03e2920b5\" transform=\"scale(1 -1) translate(0 -159.84)\" x=\"519.12\" y=\"-35.7555\" width=\"159.84\" height=\"159.84\"/>\n   </g>\n   <g id=\"text_4\">\n    <!-- Pred: 0 (1.00) -->\n    <g transform=\"translate(558.000937 16.318125) scale(0.12 -0.12)\">\n     <use xlink:href=\"#DejaVuSans-50\"/>\n     <use xlink:href=\"#DejaVuSans-72\" x=\"58.552734\"/>\n     <use xlink:href=\"#DejaVuSans-65\" x=\"97.416016\"/>\n     <use xlink:href=\"#DejaVuSans-64\" x=\"158.939453\"/>\n     <use xlink:href=\"#DejaVuSans-3a\" x=\"222.416016\"/>\n     <use xlink:href=\"#DejaVuSans-20\" x=\"256.107422\"/>\n     <use xlink:href=\"#DejaVuSans-30\" x=\"287.894531\"/>\n     <use xlink:href=\"#DejaVuSans-20\" x=\"351.517578\"/>\n     <use xlink:href=\"#DejaVuSans-28\" x=\"383.304688\"/>\n     <use xlink:href=\"#DejaVuSans-31\" x=\"422.318359\"/>\n     <use xlink:href=\"#DejaVuSans-2e\" x=\"485.941406\"/>\n     <use xlink:href=\"#DejaVuSans-30\" x=\"517.728516\"/>\n     <use xlink:href=\"#DejaVuSans-30\" x=\"581.351562\"/>\n     <use xlink:href=\"#DejaVuSans-29\" x=\"644.974609\"/>\n    </g>\n    <!-- True: 0 (1.00) -->\n    <g transform=\"translate(558.605625 29.7555) scale(0.12 -0.12)\">\n     <use xlink:href=\"#DejaVuSans-54\"/>\n     <use xlink:href=\"#DejaVuSans-72\" x=\"46.333984\"/>\n     <use xlink:href=\"#DejaVuSans-75\" x=\"87.447266\"/>\n     <use xlink:href=\"#DejaVuSans-65\" x=\"150.826172\"/>\n     <use xlink:href=\"#DejaVuSans-3a\" x=\"212.349609\"/>\n     <use xlink:href=\"#DejaVuSans-20\" x=\"246.041016\"/>\n     <use xlink:href=\"#DejaVuSans-30\" x=\"277.828125\"/>\n     <use xlink:href=\"#DejaVuSans-20\" x=\"341.451172\"/>\n     <use xlink:href=\"#DejaVuSans-28\" x=\"373.238281\"/>\n     <use xlink:href=\"#DejaVuSans-31\" x=\"412.251953\"/>\n     <use xlink:href=\"#DejaVuSans-2e\" x=\"475.875\"/>\n     <use xlink:href=\"#DejaVuSans-30\" x=\"507.662109\"/>\n     <use xlink:href=\"#DejaVuSans-30\" x=\"571.285156\"/>\n     <use xlink:href=\"#DejaVuSans-29\" x=\"634.908203\"/>\n    </g>\n   </g>\n  </g>\n  <g id=\"axes_5\">\n   <g clip-path=\"url(#pd907e37ec8)\">\n    <image xlink:href=\"data:image/png;base64,\niVBORw0KGgoAAAANSUhEUgAAAN4AAADeCAYAAABSZ763AAAFjklEQVR4nO3dL2hVfRzH8TsZiGFliGgTXTAoCKbBzAoGg5YFwWZyiGBZ1GByYBCbVUWLDBTTNQoapyaDQTb8lxxTFH3yw/Pc7+F6r/vce8/rVb/8rj8Gb3/hxzlnqtPp/O4A22pHegPQRsKDAOFBgPAgQHgQIDwIEB4ECA8ChAcBwoMA4UGA8CBAeBAgPAgQHgQIDwKEBwHCgwDhQYDwIEB4ECA8CBAeBEynN0DO6upqOV9ZWSnn3W53mNtpFSceBAgPAoQHAcKDAOFBgPAgQHgQMNXxfbzW2tjYKOfT0/U177Vr18r5zZs3+95TWzjxIEB4ECA8CBAeBAgPAoQHAcKDAPd4LXb9+vVyfuXKlXK+tbVVzmdmZvreU1s48SBAeBAgPAgQHgQIDwKEBwHCgwDv1Wyxb9++DbR+165dQ9pJ+zjxIEB4ECA8CBAeBAgPAoQHAcKDAPd4LTY1NTXQnD/nxIMA4UGA8CBAeBAgPAgQHgS4Tmix37/rNzs2zZscPny4nK+trQ30++PMiQcBwoMA4UGA8CBAeBAgPAgQHgS4xyscPXq0nM/NzW3PRnp4+PDhQOsPHDgwpJ38vzbf0zVx4kGA8CBAeBAgPAgQHgQIDwKEBwETfY936NChcn716tVyfurUqXK+c+fOvvc0TJ8+fSrnTc/T7d69e5jb+Y+mz3htbW391X9/lDnxIEB4ECA8CBAeBAgPAoQHAcKDgKlOpzPYyxNH2P3798v5mTNnyvmLFy/K+crKSt97Gqam91Y2PW+3f//+cj4/P9/vlv7l4sWL5fz27dsD/f44c+JBgPAgQHgQIDwIEB4ECA8ChAcBY/88XvXM18GDB8u1r169KudNz+N9+fKlnP9tDx48GGj9nj17yvn6+vpAv79jh//Xe/GXgQDhQYDwIEB4ECA8CBAeBAgPAsb+Hm9mZqbnrOn7dnfv3i3n6Xu6v+3Dhw/lvOn7e03PMy4sLJTzW7dulfNJ5sSDAOFBgPAgQHgQIDwIEB4ECA8Cxv4e7/v37z1n79+/L9cuLi6W83Pnzv3RnibF27dvB1rf9N7PNnPiQYDwIEB4ECA8CBAeBAgPAoQHAb6PV2j7992avp/3/Pnzcj47O1vOT5w40XPW7XbLtePOiQcBwoMA4UGA8CBAeBAgPAgQHgRM9D3e2bNny/mdO3fK+bt378r5kSNH+t7TJLlx40Y5v3TpUjl/9uxZz9nJkyfLtT9+/Cjno86JBwHCgwDhQYDwIEB4ECA8CBAeBEz0PV6Te/fulfPTp0+X8+PHj5fzly9f9r2ncdL0vN3nz5/L+a9fv3rO9u7dW679+PFjOR91TjwIEB4ECA8ChAcBwoMA4UGA8CCg1fd4Td9vq54X63Sa76mOHTtWzr9+/VrOx13T329hYaHnbN++feVa93hA34QHAcKDAOFBgPAgQHgQIDwImE5vIGltba2cLy4ulvMnT56U8+Xl5YHm4+7Ro0flvLrHm3ROPAgQHgQIDwKEBwHCgwDhQYDwIKDVz+M1mZ6urzm73W45n5ubK+dNz5yNu/Pnz5fzy5cv95zNz8+Xazc3N/9kSyPDiQcBwoMA4UGA8CBAeBAgPAgQHgS0+nm8Jj9//iznjx8/LudLS0vD3M7YaXqv6OvXr3vOxv2erokTDwKEBwHCgwDhQYDwIEB4EOA6YQBPnz4t5xcuXNimnYym1dXVcv7mzZtt2snoceJBgPAgQHgQIDwIEB4ECA8ChAcBXu8HAU48CBAeBAgPAoQHAcKDAOFBgPAgQHgQIDwIEB4ECA8ChAcBwoMA4UGA8CBAeBAgPAgQHgQIDwKEBwHCgwDhQYDwIEB4ECA8CBAeBAgPAoQHAcKDAOFBgPAgQHgQIDwIEB4ECA8ChAcBwoMA4UGA8CDgHzfkzWUHxaIvAAAAAElFTkSuQmCC\" id=\"image0f38b3a104\" transform=\"scale(1 -1) translate(0 -159.84)\" x=\"689.76\" y=\"-35.7555\" width=\"159.84\" height=\"159.84\"/>\n   </g>\n   <g id=\"text_5\">\n    <!-- Pred: 4 (0.99) -->\n    <g transform=\"translate(728.640937 16.318125) scale(0.12 -0.12)\">\n     <defs>\n      <path id=\"DejaVuSans-34\" d=\"M 2419 4116 \nL 825 1625 \nL 2419 1625 \nL 2419 4116 \nz\nM 2253 4666 \nL 3047 4666 \nL 3047 1625 \nL 3713 1625 \nL 3713 1100 \nL 3047 1100 \nL 3047 0 \nL 2419 0 \nL 2419 1100 \nL 313 1100 \nL 313 1709 \nL 2253 4666 \nz\n\" transform=\"scale(0.015625)\"/>\n     </defs>\n     <use xlink:href=\"#DejaVuSans-50\"/>\n     <use xlink:href=\"#DejaVuSans-72\" x=\"58.552734\"/>\n     <use xlink:href=\"#DejaVuSans-65\" x=\"97.416016\"/>\n     <use xlink:href=\"#DejaVuSans-64\" x=\"158.939453\"/>\n     <use xlink:href=\"#DejaVuSans-3a\" x=\"222.416016\"/>\n     <use xlink:href=\"#DejaVuSans-20\" x=\"256.107422\"/>\n     <use xlink:href=\"#DejaVuSans-34\" x=\"287.894531\"/>\n     <use xlink:href=\"#DejaVuSans-20\" x=\"351.517578\"/>\n     <use xlink:href=\"#DejaVuSans-28\" x=\"383.304688\"/>\n     <use xlink:href=\"#DejaVuSans-30\" x=\"422.318359\"/>\n     <use xlink:href=\"#DejaVuSans-2e\" x=\"485.941406\"/>\n     <use xlink:href=\"#DejaVuSans-39\" x=\"517.728516\"/>\n     <use xlink:href=\"#DejaVuSans-39\" x=\"581.351562\"/>\n     <use xlink:href=\"#DejaVuSans-29\" x=\"644.974609\"/>\n    </g>\n    <!-- True: 4 (0.99) -->\n    <g transform=\"translate(729.245625 29.7555) scale(0.12 -0.12)\">\n     <use xlink:href=\"#DejaVuSans-54\"/>\n     <use xlink:href=\"#DejaVuSans-72\" x=\"46.333984\"/>\n     <use xlink:href=\"#DejaVuSans-75\" x=\"87.447266\"/>\n     <use xlink:href=\"#DejaVuSans-65\" x=\"150.826172\"/>\n     <use xlink:href=\"#DejaVuSans-3a\" x=\"212.349609\"/>\n     <use xlink:href=\"#DejaVuSans-20\" x=\"246.041016\"/>\n     <use xlink:href=\"#DejaVuSans-34\" x=\"277.828125\"/>\n     <use xlink:href=\"#DejaVuSans-20\" x=\"341.451172\"/>\n     <use xlink:href=\"#DejaVuSans-28\" x=\"373.238281\"/>\n     <use xlink:href=\"#DejaVuSans-30\" x=\"412.251953\"/>\n     <use xlink:href=\"#DejaVuSans-2e\" x=\"475.875\"/>\n     <use xlink:href=\"#DejaVuSans-39\" x=\"507.662109\"/>\n     <use xlink:href=\"#DejaVuSans-39\" x=\"571.285156\"/>\n     <use xlink:href=\"#DejaVuSans-29\" x=\"634.908203\"/>\n    </g>\n   </g>\n  </g>\n  <g id=\"axes_6\">\n   <g clip-path=\"url(#p2fb072033e)\">\n    <image xlink:href=\"data:image/png;base64,\niVBORw0KGgoAAAANSUhEUgAAAN4AAADeCAYAAABSZ763AAAEtElEQVR4nO3dPW+ObQDH4dtLVSwEkzQmI5MmEruFQcw62EQj8QGkW/sRfAKDRQwWsUpMSDpYDRKjhk1Soj6B887jSp9fX45j/adX78HPOZy5rx6ZzWY7M+B/dbT+AHAYCQ8CwoOA8CAgPAgIDwLCg4DwICA8CAgPAsKDgPAgIDwICA8CwoOA8CAgPAgIDwLCg4DwICA8CAgPAsKDwPH6AxxkFy5cGO7r6+vD/cOHD8P9yZMn//kzsTc48SAgPAgIDwLCg4DwICA8CAgPAu7xJjh27Nhw39jYGO737t2b9Hz3ePuXEw8CwoOA8CAgPAgIDwLCg4DwIOAeb4KjR8f/by0vL096/qVLlyb9PHuXEw8CwoOA8CAgPAgIDwLCg4DwIOAeb4KfP38O90+fPg33y5cvD/eTJ08O94WFheE+7/PRceJBQHgQEB4EhAcB4UFAeBAQHgTc4+2i169fD/fbt28P94sXLw7306dPD/evX78OdzpOPAgIDwLCg4DwICA8CAgPAq4TdtHW1taknz9//vxwf/To0XBfW1ub9PvZPU48CAgPAsKDgPAgIDwICA8CwoPAkdlstlN/iINqaWlpuH/+/Hm4z/szYB8/fhzuV65cGe50nHgQEB4EhAcB4UFAeBAQHgSEBwH3eKGnT58O95WVleH+/fv34X7jxo3h/v79++HO7nHiQUB4EBAeBIQHAeFBQHgQEB4EvFcz9Pz58+E+7x7vzJkzw/3+/fvD3T1ex4kHAeFBQHgQEB4EhAcB4UFAeBBwjxea9/fzfv/+PdznvXdz3vfx6DjxICA8CAgPAsKDgPAgIDwICA8C3qu5h+32ezfn/f28L1++DHf+nRMPAsKDgPAgIDwICA8CwoOA8CDg+3h72Lz3Xk597+aDBw+G++PHj4c7/86JBwHhQUB4EBAeBIQHAeFBQHgQ8H28Pez69evD/e3bt5Oe/+3bt+F+9uzZSc/n75x4EBAeBIQHAeFBQHgQEB4EhAcB93j72Lx7vHn3gNvb28P92rVrw31zc3O483dOPAgIDwLCg4DwICA8CAgPAsKDgPdq7mNv3rwZ7vPu8U6cODHcNzY2hvutW7eGO3/nxIOA8CAgPAgIDwLCg4DwICA8CPg+3j62vLw83N+9ezfp+b9+/RruCwsLk55/mDnxICA8CAgPAsKDgPAgIDwICA8C7vH2scXFxeE+772bV69enfT7b968OdxfvXo16fkHmRMPAsKDgPAgIDwICA8CwoOA8CDgHu8Au3PnznB/8eLFpOc/e/ZsuN+9e3e47+wc3n96TjwICA8CwoOA8CAgPAgIDwLCg4B7vAPs3Llzw31zc3O4Ly0tTfr9p06dGu4/fvyY9Pz9zIkHAeFBQHgQEB4EhAcB4UHgeP0B2D1bW1vDfXV1dbi/fPlyuD98+HC4b29vD/fDzIkHAeFBQHgQEB4EhAcB4UFAeBDwtSAIOPEgIDwICA8CwoOA8CAgPAgIDwLCg4DwICA8CAgPAsKDgPAgIDwICA8CwoOA8CAgPAgIDwLCg4DwICA8CAgPAsKDgPAgIDwICA8CwoOA8CAgPAgIDwLCg4DwICA8CAgPAsKDgPAgIDwICA8CfwA32pMn7A6KKQAAAABJRU5ErkJggg==\" id=\"image8e0a9ff029\" transform=\"scale(1 -1) translate(0 -159.84)\" x=\"7.2\" y=\"-237.417569\" width=\"159.84\" height=\"159.84\"/>\n   </g>\n   <g id=\"text_6\">\n    <!-- Pred: 1 (1.00) -->\n    <g transform=\"translate(46.080937 217.980194) scale(0.12 -0.12)\">\n     <use xlink:href=\"#DejaVuSans-50\"/>\n     <use xlink:href=\"#DejaVuSans-72\" x=\"58.552734\"/>\n     <use xlink:href=\"#DejaVuSans-65\" x=\"97.416016\"/>\n     <use xlink:href=\"#DejaVuSans-64\" x=\"158.939453\"/>\n     <use xlink:href=\"#DejaVuSans-3a\" x=\"222.416016\"/>\n     <use xlink:href=\"#DejaVuSans-20\" x=\"256.107422\"/>\n     <use xlink:href=\"#DejaVuSans-31\" x=\"287.894531\"/>\n     <use xlink:href=\"#DejaVuSans-20\" x=\"351.517578\"/>\n     <use xlink:href=\"#DejaVuSans-28\" x=\"383.304688\"/>\n     <use xlink:href=\"#DejaVuSans-31\" x=\"422.318359\"/>\n     <use xlink:href=\"#DejaVuSans-2e\" x=\"485.941406\"/>\n     <use xlink:href=\"#DejaVuSans-30\" x=\"517.728516\"/>\n     <use xlink:href=\"#DejaVuSans-30\" x=\"581.351562\"/>\n     <use xlink:href=\"#DejaVuSans-29\" x=\"644.974609\"/>\n    </g>\n    <!-- True: 1 (1.00) -->\n    <g transform=\"translate(46.685625 231.417569) scale(0.12 -0.12)\">\n     <use xlink:href=\"#DejaVuSans-54\"/>\n     <use xlink:href=\"#DejaVuSans-72\" x=\"46.333984\"/>\n     <use xlink:href=\"#DejaVuSans-75\" x=\"87.447266\"/>\n     <use xlink:href=\"#DejaVuSans-65\" x=\"150.826172\"/>\n     <use xlink:href=\"#DejaVuSans-3a\" x=\"212.349609\"/>\n     <use xlink:href=\"#DejaVuSans-20\" x=\"246.041016\"/>\n     <use xlink:href=\"#DejaVuSans-31\" x=\"277.828125\"/>\n     <use xlink:href=\"#DejaVuSans-20\" x=\"341.451172\"/>\n     <use xlink:href=\"#DejaVuSans-28\" x=\"373.238281\"/>\n     <use xlink:href=\"#DejaVuSans-31\" x=\"412.251953\"/>\n     <use xlink:href=\"#DejaVuSans-2e\" x=\"475.875\"/>\n     <use xlink:href=\"#DejaVuSans-30\" x=\"507.662109\"/>\n     <use xlink:href=\"#DejaVuSans-30\" x=\"571.285156\"/>\n     <use xlink:href=\"#DejaVuSans-29\" x=\"634.908203\"/>\n    </g>\n   </g>\n  </g>\n  <g id=\"axes_7\">\n   <g clip-path=\"url(#peb16856055)\">\n    <image xlink:href=\"data:image/png;base64,\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\" id=\"image13119365e5\" transform=\"scale(1 -1) translate(0 -159.84)\" x=\"177.84\" y=\"-237.417569\" width=\"159.84\" height=\"159.84\"/>\n   </g>\n   <g id=\"text_7\">\n    <!-- Pred: 4 (1.00) -->\n    <g transform=\"translate(216.720937 217.980194) scale(0.12 -0.12)\">\n     <use xlink:href=\"#DejaVuSans-50\"/>\n     <use xlink:href=\"#DejaVuSans-72\" x=\"58.552734\"/>\n     <use xlink:href=\"#DejaVuSans-65\" x=\"97.416016\"/>\n     <use xlink:href=\"#DejaVuSans-64\" x=\"158.939453\"/>\n     <use xlink:href=\"#DejaVuSans-3a\" x=\"222.416016\"/>\n     <use xlink:href=\"#DejaVuSans-20\" x=\"256.107422\"/>\n     <use xlink:href=\"#DejaVuSans-34\" x=\"287.894531\"/>\n     <use xlink:href=\"#DejaVuSans-20\" x=\"351.517578\"/>\n     <use xlink:href=\"#DejaVuSans-28\" x=\"383.304688\"/>\n     <use xlink:href=\"#DejaVuSans-31\" x=\"422.318359\"/>\n     <use xlink:href=\"#DejaVuSans-2e\" x=\"485.941406\"/>\n     <use xlink:href=\"#DejaVuSans-30\" x=\"517.728516\"/>\n     <use xlink:href=\"#DejaVuSans-30\" x=\"581.351562\"/>\n     <use xlink:href=\"#DejaVuSans-29\" x=\"644.974609\"/>\n    </g>\n    <!-- True: 4 (1.00) -->\n    <g transform=\"translate(217.325625 231.417569) scale(0.12 -0.12)\">\n     <use xlink:href=\"#DejaVuSans-54\"/>\n     <use xlink:href=\"#DejaVuSans-72\" x=\"46.333984\"/>\n     <use xlink:href=\"#DejaVuSans-75\" x=\"87.447266\"/>\n     <use xlink:href=\"#DejaVuSans-65\" x=\"150.826172\"/>\n     <use xlink:href=\"#DejaVuSans-3a\" x=\"212.349609\"/>\n     <use xlink:href=\"#DejaVuSans-20\" x=\"246.041016\"/>\n     <use xlink:href=\"#DejaVuSans-34\" x=\"277.828125\"/>\n     <use xlink:href=\"#DejaVuSans-20\" x=\"341.451172\"/>\n     <use xlink:href=\"#DejaVuSans-28\" x=\"373.238281\"/>\n     <use xlink:href=\"#DejaVuSans-31\" x=\"412.251953\"/>\n     <use xlink:href=\"#DejaVuSans-2e\" x=\"475.875\"/>\n     <use xlink:href=\"#DejaVuSans-30\" x=\"507.662109\"/>\n     <use xlink:href=\"#DejaVuSans-30\" x=\"571.285156\"/>\n     <use xlink:href=\"#DejaVuSans-29\" x=\"634.908203\"/>\n    </g>\n   </g>\n  </g>\n  <g id=\"axes_8\">\n   <g clip-path=\"url(#p49cab9378e)\">\n    <image xlink:href=\"data:image/png;base64,\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\" id=\"imaged7b5a0a0d8\" transform=\"scale(1 -1) translate(0 -159.84)\" x=\"348.48\" y=\"-237.417569\" width=\"159.84\" height=\"159.84\"/>\n   </g>\n   <g id=\"text_8\">\n    <!-- Pred: 9 (0.99) -->\n    <g transform=\"translate(387.360937 217.980194) scale(0.12 -0.12)\">\n     <use xlink:href=\"#DejaVuSans-50\"/>\n     <use xlink:href=\"#DejaVuSans-72\" x=\"58.552734\"/>\n     <use xlink:href=\"#DejaVuSans-65\" x=\"97.416016\"/>\n     <use xlink:href=\"#DejaVuSans-64\" x=\"158.939453\"/>\n     <use xlink:href=\"#DejaVuSans-3a\" x=\"222.416016\"/>\n     <use xlink:href=\"#DejaVuSans-20\" x=\"256.107422\"/>\n     <use xlink:href=\"#DejaVuSans-39\" x=\"287.894531\"/>\n     <use xlink:href=\"#DejaVuSans-20\" x=\"351.517578\"/>\n     <use xlink:href=\"#DejaVuSans-28\" x=\"383.304688\"/>\n     <use xlink:href=\"#DejaVuSans-30\" x=\"422.318359\"/>\n     <use xlink:href=\"#DejaVuSans-2e\" x=\"485.941406\"/>\n     <use xlink:href=\"#DejaVuSans-39\" x=\"517.728516\"/>\n     <use xlink:href=\"#DejaVuSans-39\" x=\"581.351562\"/>\n     <use xlink:href=\"#DejaVuSans-29\" x=\"644.974609\"/>\n    </g>\n    <!-- True: 9 (0.99) -->\n    <g transform=\"translate(387.965625 231.417569) scale(0.12 -0.12)\">\n     <use xlink:href=\"#DejaVuSans-54\"/>\n     <use xlink:href=\"#DejaVuSans-72\" x=\"46.333984\"/>\n     <use xlink:href=\"#DejaVuSans-75\" x=\"87.447266\"/>\n     <use xlink:href=\"#DejaVuSans-65\" x=\"150.826172\"/>\n     <use xlink:href=\"#DejaVuSans-3a\" x=\"212.349609\"/>\n     <use xlink:href=\"#DejaVuSans-20\" x=\"246.041016\"/>\n     <use xlink:href=\"#DejaVuSans-39\" x=\"277.828125\"/>\n     <use xlink:href=\"#DejaVuSans-20\" x=\"341.451172\"/>\n     <use xlink:href=\"#DejaVuSans-28\" x=\"373.238281\"/>\n     <use xlink:href=\"#DejaVuSans-30\" x=\"412.251953\"/>\n     <use xlink:href=\"#DejaVuSans-2e\" x=\"475.875\"/>\n     <use xlink:href=\"#DejaVuSans-39\" x=\"507.662109\"/>\n     <use xlink:href=\"#DejaVuSans-39\" x=\"571.285156\"/>\n     <use xlink:href=\"#DejaVuSans-29\" x=\"634.908203\"/>\n    </g>\n   </g>\n  </g>\n  <g id=\"axes_9\">\n   <g clip-path=\"url(#p8649099bd8)\">\n    <image xlink:href=\"data:image/png;base64,\niVBORw0KGgoAAAANSUhEUgAAAN4AAADeCAYAAABSZ763AAAF4ElEQVR4nO3dTYjN/R/G8RnjoYmNFJtxKLKx0MhidqbUbEhYTBLLyULysGLHhmQ/KWKhbKwoFhYo5SEJZUqyGGU1bCyGiHFv//XvfM49zn3mOmZer+3VOecn3r6LbzOnt6en53cPMKcWpR8AFiLhQYDwIEB4ECA8CBAeBAgPAoQHAcKDAOFBgPAgQHgQIDwIEB4ECA8ChAcBwoMA4UGA8CBAeBAgPAgQHgQIDwKEBwHCgwDhQYDwIEB4ECA8CBAeBAgPAhanH4A/d+jQoXIfGhoq97Nnz5b71NTUrJ+Jf8eJBwHCgwDhQYDwIEB4ECA8CBAeBPT29PT8Tj/EQrVmzZpyv3LlSrlv27at3FevXl3uk5OT5X79+vVyP3PmTLnTnBMPAoQHAcKDAOFBgPAgQHgQIDwIcI/XQf39/eV+9erVch8dHf0vH2fWfv36Ve537twp94MHD5b79PT0rJ9pvnDiQYDwIEB4ECA8CBAeBAgPAoQHAe7xOmjr1q3l/vz5845+/oMHD8p9eHi43Ht7e9v6/PHx8XI/evRoW+//N3PiQYDwIEB4ECA8CBAeBAgPAnxNVweNjIy09fqfP3+W+7Vr18r98uXL5X78+PFyP3DgQLm3MjAw0Nbr5zMnHgQIDwKEBwHCgwDhQYDwIEB4EOAer7Bjx45yX7JkSbnv2bOnrc9fvLj+6xkbG2trJ8eJBwHCgwDhQYDwIEB4ECA8CBAeBHT9PV5fX1+5Dw4ONt1u3LhRvrbVPdnatWvLfdGihf3/1u/f9W+GfPHixRw9yd9nYf/LgRDhQYDwIEB4ECA8CBAeBAgPArr+a7ouXrxY7idPnpyjJ1l4Pn36VO4PHz4s9/379/+HTzO/OPEgQHgQIDwIEB4ECA8ChAcBwoOArr/Ha/UzXzMzMx377FbvfenSpXJ/+vRpuTcajXJ///59uU9MTJR7K5s3by73J0+elPvHjx/b+vyFzIkHAcKDAOFBgPAgQHgQIDwIEB4EdP093tTUVLmvWrWq6fb9+/fytRcuXCj3W7dulfurV6/KHZpx4kGA8CBAeBAgPAgQHgQIDwKEBwFdf483Pj5e7ocPH266tbqH27dv3x89E7TLiQcBwoMA4UGA8CBAeBAgPAgQHgQsTj9AK48fPy736h5vcHCwfO3AwEC5+72RdIoTDwKEBwHCgwDhQYDwIEB4ECA8COj6n8dbsWJFuZ8+fbrpdurUqfK1nz9/LvdNmzaV+5cvX8odmnHiQYDwIEB4ECA8CBAeBAgPAoQHAV1/j9fK0qVLm243b94sX7tr165yP3fuXLmfP3++3L9+/VruLFxOPAgQHgQIDwKEBwHCgwDhQYDwIOCvv8erLF++vNwfPXpU7lu2bCn3vXv3lvvt27fLvZX169eX++TkZLk3Go1yb/V7Q2dmZsqdP+fEgwDhQYDwIEB4ECA8CBAeBAgPArr++/HaMT09Xe4jIyPlfuzYsXL/8ePHrJ/pfw0NDZX73bt3y73Vn6/VPea9e/fK/c2bN+X+7Nmzcn/58mW5f/v2renW6s/2t3PiQYDwIEB4ECA8CBAeBAgPAoQHAfP65/G63fbt28v9/v37c/QkGW/fvm26TUxMzOGT/L/R0dGOvr8TDwKEBwHCgwDhQYDwIEB4ECA8CHCPF7Rhw4ZyP3LkSLmPjY2Ve39/f7n39vaW+0LW19fX0fd34kGA8CBAeBAgPAgQHgQIDwJcJ8xjO3fuLPfdu3eX+/DwcLlv3Lhxto/0r717967c161bV+7Lli1r6/NdJ8A8JDwIEB4ECA8ChAcBwoMA4UGAezyaWrlyZbk3Go2OffaHDx/K/cSJE+Xe6ivGWt0Tvn79utzb5cSDAOFBgPAgQHgQIDwIEB4ECA8C3ONBgBMPAoQHAcKDAOFBgPAgQHgQIDwIEB4ECA8ChAcBwoMA4UGA8CBAeBAgPAgQHgQIDwKEBwHCgwDhQYDwIEB4ECA8CBAeBAgPAoQHAcKDAOFBgPAgQHgQIDwI+AfFqOJiHv2xeQAAAABJRU5ErkJggg==\" id=\"image5583d62be8\" transform=\"scale(1 -1) translate(0 -159.84)\" x=\"519.12\" y=\"-237.417569\" width=\"159.84\" height=\"159.84\"/>\n   </g>\n   <g id=\"text_9\">\n    <!-- Pred: 6 (0.60) -->\n    <g transform=\"translate(558.000937 217.980194) scale(0.12 -0.12)\">\n     <defs>\n      <path id=\"DejaVuSans-36\" d=\"M 2113 2584 \nQ 1688 2584 1439 2293 \nQ 1191 2003 1191 1497 \nQ 1191 994 1439 701 \nQ 1688 409 2113 409 \nQ 2538 409 2786 701 \nQ 3034 994 3034 1497 \nQ 3034 2003 2786 2293 \nQ 2538 2584 2113 2584 \nz\nM 3366 4563 \nL 3366 3988 \nQ 3128 4100 2886 4159 \nQ 2644 4219 2406 4219 \nQ 1781 4219 1451 3797 \nQ 1122 3375 1075 2522 \nQ 1259 2794 1537 2939 \nQ 1816 3084 2150 3084 \nQ 2853 3084 3261 2657 \nQ 3669 2231 3669 1497 \nQ 3669 778 3244 343 \nQ 2819 -91 2113 -91 \nQ 1303 -91 875 529 \nQ 447 1150 447 2328 \nQ 447 3434 972 4092 \nQ 1497 4750 2381 4750 \nQ 2619 4750 2861 4703 \nQ 3103 4656 3366 4563 \nz\n\" transform=\"scale(0.015625)\"/>\n     </defs>\n     <use xlink:href=\"#DejaVuSans-50\"/>\n     <use xlink:href=\"#DejaVuSans-72\" x=\"58.552734\"/>\n     <use xlink:href=\"#DejaVuSans-65\" x=\"97.416016\"/>\n     <use xlink:href=\"#DejaVuSans-64\" x=\"158.939453\"/>\n     <use xlink:href=\"#DejaVuSans-3a\" x=\"222.416016\"/>\n     <use xlink:href=\"#DejaVuSans-20\" x=\"256.107422\"/>\n     <use xlink:href=\"#DejaVuSans-36\" x=\"287.894531\"/>\n     <use xlink:href=\"#DejaVuSans-20\" x=\"351.517578\"/>\n     <use xlink:href=\"#DejaVuSans-28\" x=\"383.304688\"/>\n     <use xlink:href=\"#DejaVuSans-30\" x=\"422.318359\"/>\n     <use xlink:href=\"#DejaVuSans-2e\" x=\"485.941406\"/>\n     <use xlink:href=\"#DejaVuSans-36\" x=\"517.728516\"/>\n     <use xlink:href=\"#DejaVuSans-30\" x=\"581.351562\"/>\n     <use xlink:href=\"#DejaVuSans-29\" x=\"644.974609\"/>\n    </g>\n    <!-- True: 5 (0.08) -->\n    <g transform=\"translate(558.605625 231.417569) scale(0.12 -0.12)\">\n     <defs>\n      <path id=\"DejaVuSans-35\" d=\"M 691 4666 \nL 3169 4666 \nL 3169 4134 \nL 1269 4134 \nL 1269 2991 \nQ 1406 3038 1543 3061 \nQ 1681 3084 1819 3084 \nQ 2600 3084 3056 2656 \nQ 3513 2228 3513 1497 \nQ 3513 744 3044 326 \nQ 2575 -91 1722 -91 \nQ 1428 -91 1123 -41 \nQ 819 9 494 109 \nL 494 744 \nQ 775 591 1075 516 \nQ 1375 441 1709 441 \nQ 2250 441 2565 725 \nQ 2881 1009 2881 1497 \nQ 2881 1984 2565 2268 \nQ 2250 2553 1709 2553 \nQ 1456 2553 1204 2497 \nQ 953 2441 691 2322 \nL 691 4666 \nz\n\" transform=\"scale(0.015625)\"/>\n      <path id=\"DejaVuSans-38\" d=\"M 2034 2216 \nQ 1584 2216 1326 1975 \nQ 1069 1734 1069 1313 \nQ 1069 891 1326 650 \nQ 1584 409 2034 409 \nQ 2484 409 2743 651 \nQ 3003 894 3003 1313 \nQ 3003 1734 2745 1975 \nQ 2488 2216 2034 2216 \nz\nM 1403 2484 \nQ 997 2584 770 2862 \nQ 544 3141 544 3541 \nQ 544 4100 942 4425 \nQ 1341 4750 2034 4750 \nQ 2731 4750 3128 4425 \nQ 3525 4100 3525 3541 \nQ 3525 3141 3298 2862 \nQ 3072 2584 2669 2484 \nQ 3125 2378 3379 2068 \nQ 3634 1759 3634 1313 \nQ 3634 634 3220 271 \nQ 2806 -91 2034 -91 \nQ 1263 -91 848 271 \nQ 434 634 434 1313 \nQ 434 1759 690 2068 \nQ 947 2378 1403 2484 \nz\nM 1172 3481 \nQ 1172 3119 1398 2916 \nQ 1625 2713 2034 2713 \nQ 2441 2713 2670 2916 \nQ 2900 3119 2900 3481 \nQ 2900 3844 2670 4047 \nQ 2441 4250 2034 4250 \nQ 1625 4250 1398 4047 \nQ 1172 3844 1172 3481 \nz\n\" transform=\"scale(0.015625)\"/>\n     </defs>\n     <use xlink:href=\"#DejaVuSans-54\"/>\n     <use xlink:href=\"#DejaVuSans-72\" x=\"46.333984\"/>\n     <use xlink:href=\"#DejaVuSans-75\" x=\"87.447266\"/>\n     <use xlink:href=\"#DejaVuSans-65\" x=\"150.826172\"/>\n     <use xlink:href=\"#DejaVuSans-3a\" x=\"212.349609\"/>\n     <use xlink:href=\"#DejaVuSans-20\" x=\"246.041016\"/>\n     <use xlink:href=\"#DejaVuSans-35\" x=\"277.828125\"/>\n     <use xlink:href=\"#DejaVuSans-20\" x=\"341.451172\"/>\n     <use xlink:href=\"#DejaVuSans-28\" x=\"373.238281\"/>\n     <use xlink:href=\"#DejaVuSans-30\" x=\"412.251953\"/>\n     <use xlink:href=\"#DejaVuSans-2e\" x=\"475.875\"/>\n     <use xlink:href=\"#DejaVuSans-30\" x=\"507.662109\"/>\n     <use xlink:href=\"#DejaVuSans-38\" x=\"571.285156\"/>\n     <use xlink:href=\"#DejaVuSans-29\" x=\"634.908203\"/>\n    </g>\n   </g>\n  </g>\n  <g id=\"axes_10\">\n   <g clip-path=\"url(#pce42d8a2be)\">\n    <image xlink:href=\"data:image/png;base64,\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\" id=\"image0dac85522b\" transform=\"scale(1 -1) translate(0 -159.84)\" x=\"689.76\" y=\"-237.417569\" width=\"159.84\" height=\"159.84\"/>\n   </g>\n   <g id=\"text_10\">\n    <!-- Pred: 2 (0.69) -->\n    <g transform=\"translate(728.640937 217.980194) scale(0.12 -0.12)\">\n     <use xlink:href=\"#DejaVuSans-50\"/>\n     <use xlink:href=\"#DejaVuSans-72\" x=\"58.552734\"/>\n     <use xlink:href=\"#DejaVuSans-65\" x=\"97.416016\"/>\n     <use xlink:href=\"#DejaVuSans-64\" x=\"158.939453\"/>\n     <use xlink:href=\"#DejaVuSans-3a\" x=\"222.416016\"/>\n     <use xlink:href=\"#DejaVuSans-20\" x=\"256.107422\"/>\n     <use xlink:href=\"#DejaVuSans-32\" x=\"287.894531\"/>\n     <use xlink:href=\"#DejaVuSans-20\" x=\"351.517578\"/>\n     <use xlink:href=\"#DejaVuSans-28\" x=\"383.304688\"/>\n     <use xlink:href=\"#DejaVuSans-30\" x=\"422.318359\"/>\n     <use xlink:href=\"#DejaVuSans-2e\" x=\"485.941406\"/>\n     <use xlink:href=\"#DejaVuSans-36\" x=\"517.728516\"/>\n     <use xlink:href=\"#DejaVuSans-39\" x=\"581.351562\"/>\n     <use xlink:href=\"#DejaVuSans-29\" x=\"644.974609\"/>\n    </g>\n    <!-- True: 8 (0.30) -->\n    <g transform=\"translate(729.245625 231.417569) scale(0.12 -0.12)\">\n     <defs>\n      <path id=\"DejaVuSans-33\" d=\"M 2597 2516 \nQ 3050 2419 3304 2112 \nQ 3559 1806 3559 1356 \nQ 3559 666 3084 287 \nQ 2609 -91 1734 -91 \nQ 1441 -91 1130 -33 \nQ 819 25 488 141 \nL 488 750 \nQ 750 597 1062 519 \nQ 1375 441 1716 441 \nQ 2309 441 2620 675 \nQ 2931 909 2931 1356 \nQ 2931 1769 2642 2001 \nQ 2353 2234 1838 2234 \nL 1294 2234 \nL 1294 2753 \nL 1863 2753 \nQ 2328 2753 2575 2939 \nQ 2822 3125 2822 3475 \nQ 2822 3834 2567 4026 \nQ 2313 4219 1838 4219 \nQ 1578 4219 1281 4162 \nQ 984 4106 628 3988 \nL 628 4550 \nQ 988 4650 1302 4700 \nQ 1616 4750 1894 4750 \nQ 2613 4750 3031 4423 \nQ 3450 4097 3450 3541 \nQ 3450 3153 3228 2886 \nQ 3006 2619 2597 2516 \nz\n\" transform=\"scale(0.015625)\"/>\n     </defs>\n     <use xlink:href=\"#DejaVuSans-54\"/>\n     <use xlink:href=\"#DejaVuSans-72\" x=\"46.333984\"/>\n     <use xlink:href=\"#DejaVuSans-75\" x=\"87.447266\"/>\n     <use xlink:href=\"#DejaVuSans-65\" x=\"150.826172\"/>\n     <use xlink:href=\"#DejaVuSans-3a\" x=\"212.349609\"/>\n     <use xlink:href=\"#DejaVuSans-20\" x=\"246.041016\"/>\n     <use xlink:href=\"#DejaVuSans-38\" x=\"277.828125\"/>\n     <use xlink:href=\"#DejaVuSans-20\" x=\"341.451172\"/>\n     <use xlink:href=\"#DejaVuSans-28\" x=\"373.238281\"/>\n     <use xlink:href=\"#DejaVuSans-30\" x=\"412.251953\"/>\n     <use xlink:href=\"#DejaVuSans-2e\" x=\"475.875\"/>\n     <use xlink:href=\"#DejaVuSans-33\" x=\"507.662109\"/>\n     <use xlink:href=\"#DejaVuSans-30\" x=\"571.285156\"/>\n     <use xlink:href=\"#DejaVuSans-29\" x=\"634.908203\"/>\n    </g>\n   </g>\n  </g>\n </g>\n <defs>\n  <clipPath id=\"p28b45e1658\">\n   <rect x=\"7.2\" y=\"35.7555\" width=\"159.84\" height=\"159.84\"/>\n  </clipPath>\n  <clipPath id=\"pfbfc3cf495\">\n   <rect x=\"177.84\" y=\"35.7555\" width=\"159.84\" height=\"159.84\"/>\n  </clipPath>\n  <clipPath id=\"pf8c04bb12b\">\n   <rect x=\"348.48\" y=\"35.7555\" width=\"159.84\" height=\"159.84\"/>\n  </clipPath>\n  <clipPath id=\"pbb91238876\">\n   <rect x=\"519.12\" y=\"35.7555\" width=\"159.84\" height=\"159.84\"/>\n  </clipPath>\n  <clipPath id=\"pd907e37ec8\">\n   <rect x=\"689.76\" y=\"35.7555\" width=\"159.84\" height=\"159.84\"/>\n  </clipPath>\n  <clipPath id=\"p2fb072033e\">\n   <rect x=\"7.2\" y=\"237.417569\" width=\"159.84\" height=\"159.84\"/>\n  </clipPath>\n  <clipPath id=\"peb16856055\">\n   <rect x=\"177.84\" y=\"237.417569\" width=\"159.84\" height=\"159.84\"/>\n  </clipPath>\n  <clipPath id=\"p49cab9378e\">\n   <rect x=\"348.48\" y=\"237.417569\" width=\"159.84\" height=\"159.84\"/>\n  </clipPath>\n  <clipPath id=\"p8649099bd8\">\n   <rect x=\"519.12\" y=\"237.417569\" width=\"159.84\" height=\"159.84\"/>\n  </clipPath>\n  <clipPath id=\"pce42d8a2be\">\n   <rect x=\"689.76\" y=\"237.417569\" width=\"159.84\" height=\"159.84\"/>\n  </clipPath>\n </defs>\n</svg>\n"
          },
          "metadata": {}
        }
      ]
    }
  ]
}